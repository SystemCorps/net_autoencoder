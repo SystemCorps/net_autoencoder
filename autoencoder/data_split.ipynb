{
 "cells": [
  {
   "cell_type": "code",
   "execution_count": 1,
   "metadata": {},
   "outputs": [
    {
     "name": "stderr",
     "output_type": "stream",
     "text": [
      "C:\\Anaconda3\\lib\\site-packages\\sklearn\\cross_validation.py:41: DeprecationWarning: This module was deprecated in version 0.18 in favor of the model_selection module into which all the refactored classes and functions are moved. Also note that the interface of the new CV iterators are different from that of this module. This module will be removed in 0.20.\n",
      "  \"This module will be removed in 0.20.\", DeprecationWarning)\n"
     ]
    }
   ],
   "source": [
    "import numpy as np\n",
    "from sklearn.cross_validation import train_test_split\n",
    "import random\n",
    "import json\n",
    "from glob import glob\n",
    "import os"
   ]
  },
  {
   "cell_type": "code",
   "execution_count": 21,
   "metadata": {},
   "outputs": [],
   "source": [
    "img_dir = [y for x in os.walk('E:\\\\Training\\\\dataset_full_60x44\\\\Untorn') for y in glob(os.path.join(x[0], '*.png'))]"
   ]
  },
  {
   "cell_type": "code",
   "execution_count": 22,
   "metadata": {},
   "outputs": [
    {
     "name": "stdout",
     "output_type": "stream",
     "text": [
      "E:\\Training\\dataset_full_60x44\\Untorn\\1.png 2136\n"
     ]
    }
   ],
   "source": [
    "print(img_dir[0], len(img_dir))"
   ]
  },
  {
   "cell_type": "code",
   "execution_count": 38,
   "metadata": {},
   "outputs": [],
   "source": [
    "train, temp = train_test_split(img_dir, test_size=0.2)\n",
    "test, valid = train_test_split(temp, test_size=0.5)"
   ]
  },
  {
   "cell_type": "code",
   "execution_count": 39,
   "metadata": {},
   "outputs": [
    {
     "name": "stdout",
     "output_type": "stream",
     "text": [
      "E:\\Training\\dataset_full_60x44\\Untorn\\144.png E:\\Training\\dataset_full_60x44\\Untorn\\407.png E:\\Training\\dataset_full_60x44\\Untorn\\402.png\n"
     ]
    }
   ],
   "source": [
    "print(train[0], valid[0], test[0])"
   ]
  },
  {
   "cell_type": "code",
   "execution_count": 40,
   "metadata": {},
   "outputs": [
    {
     "name": "stdout",
     "output_type": "stream",
     "text": [
      "1708 214 214\n"
     ]
    }
   ],
   "source": [
    "print(len(train), len(valid), len(test))"
   ]
  },
  {
   "cell_type": "code",
   "execution_count": 41,
   "metadata": {},
   "outputs": [],
   "source": [
    "data_dir = {}\n",
    "data_dir['train'] = train\n",
    "data_dir['valid'] = valid\n",
    "data_dir['test'] = test"
   ]
  },
  {
   "cell_type": "code",
   "execution_count": 43,
   "metadata": {},
   "outputs": [
    {
     "name": "stdout",
     "output_type": "stream",
     "text": [
      "E:\\Training\\dataset_full_60x44\\Untorn\\144.png\n",
      "E:\\Training\\dataset_full_60x44\\Untorn\\407.png\n",
      "E:\\Training\\dataset_full_60x44\\Untorn\\402.png\n"
     ]
    }
   ],
   "source": [
    "print(data_dir['train'][0])\n",
    "print(data_dir['valid'][0])\n",
    "print(data_dir['test'][0])"
   ]
  },
  {
   "cell_type": "code",
   "execution_count": 44,
   "metadata": {},
   "outputs": [],
   "source": [
    "def default(o):\n",
    "    if isinstance(o, (np.int_, np.intc, np.intp, np.int8,\n",
    "                      np.int16, np.int32, np.int64, np.uint8,\n",
    "                      np.uint16,np.uint32, np.uint64)):\n",
    "        return int(o)\n",
    "\n",
    "    raise TypeError\n",
    "\n",
    "with open('./data_dir_190209.txt', 'w') as file:\n",
    "    file.write(json.dumps(data_dir, default=default))"
   ]
  }
 ],
 "metadata": {
  "kernelspec": {
   "display_name": "Python 3",
   "language": "python",
   "name": "python3"
  },
  "language_info": {
   "codemirror_mode": {
    "name": "ipython",
    "version": 3
   },
   "file_extension": ".py",
   "mimetype": "text/x-python",
   "name": "python",
   "nbconvert_exporter": "python",
   "pygments_lexer": "ipython3",
   "version": "3.6.5"
  }
 },
 "nbformat": 4,
 "nbformat_minor": 2
}
