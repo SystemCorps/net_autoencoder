{
 "cells": [
  {
   "cell_type": "code",
   "execution_count": 3,
   "metadata": {},
   "outputs": [
    {
     "name": "stderr",
     "output_type": "stream",
     "text": [
      "C:\\Anaconda3\\lib\\site-packages\\sklearn\\cross_validation.py:41: DeprecationWarning: This module was deprecated in version 0.18 in favor of the model_selection module into which all the refactored classes and functions are moved. Also note that the interface of the new CV iterators are different from that of this module. This module will be removed in 0.20.\n",
      "  \"This module will be removed in 0.20.\", DeprecationWarning)\n"
     ]
    }
   ],
   "source": [
    "from keras.layers import Input, Dense\n",
    "from keras.models import Model\n",
    "from keras import optimizers\n",
    "from keras import losses\n",
    "from keras.callbacks import ModelCheckpoint\n",
    "from keras.callbacks import TensorBoard\n",
    "\n",
    "import numpy as np\n",
    "from sklearn.cross_validation import train_test_split\n",
    "from sklearn.metrics import mean_squared_error\n",
    "import random\n",
    "import matplotlib.pyplot as plt\n",
    "\n",
    "import os\n",
    "from glob import glob\n",
    "import json\n",
    "\n",
    "import cv2"
   ]
  },
  {
   "cell_type": "code",
   "execution_count": 4,
   "metadata": {},
   "outputs": [],
   "source": [
    "txt = open('./data_dir_190210_torn.txt', 'r')\n",
    "d_json = txt.read()\n",
    "data_dir = json.loads(d_json)"
   ]
  },
  {
   "cell_type": "code",
   "execution_count": 5,
   "metadata": {},
   "outputs": [],
   "source": [
    "#img = cv2.imread(data_dir['train'][0], 0)/255"
   ]
  },
  {
   "cell_type": "code",
   "execution_count": 6,
   "metadata": {},
   "outputs": [],
   "source": [
    "img_size = [44, 60]"
   ]
  },
  {
   "cell_type": "code",
   "execution_count": 7,
   "metadata": {},
   "outputs": [],
   "source": [
    "x_train = np.zeros((len(data_dir['train']), img_size[0], img_size[1]))\n",
    "x_valid = np.zeros((len(data_dir['valid']), img_size[0], img_size[1]))\n",
    "x_test = np.zeros((len(data_dir['test']), img_size[0], img_size[1]))"
   ]
  },
  {
   "cell_type": "code",
   "execution_count": 8,
   "metadata": {},
   "outputs": [],
   "source": [
    "for i in range(len(data_dir['train'])):\n",
    "    x_train[i,:,:]  = cv2.imread(data_dir['train'][i], 0).astype('float32')/255\n",
    "    \n",
    "for i in range(len(data_dir['valid'])):\n",
    "    x_valid[i,:,:]  = cv2.imread(data_dir['valid'][i], 0).astype('float32')/255\n",
    "    \n",
    "for i in range(len(data_dir['test'])):\n",
    "    x_test[i,:,:]  = cv2.imread(data_dir['test'][i], 0).astype('float32')/255"
   ]
  },
  {
   "cell_type": "code",
   "execution_count": 9,
   "metadata": {},
   "outputs": [
    {
     "data": {
      "image/png": "[encoded data removed]",
      "text/plain": [
       "<Figure size 432x288 with 1 Axes>"
      ]
     },
     "metadata": {},
     "output_type": "display_data"
    }
   ],
   "source": [
    "import matplotlib.pyplot as plt\n",
    "#plt.figure(figsize=(width, height))\n",
    "plt.axis(\"off\")\n",
    "plt.imshow(x_test[32], cmap='gray')\n",
    "plt.show()"
   ]
  },
  {
   "cell_type": "code",
   "execution_count": 10,
   "metadata": {},
   "outputs": [],
   "source": [
    "num_pix = 60*44\n",
    "encoding_dim = 200\n",
    "\n",
    "input_img = Input(shape=(num_pix,))\n",
    "hidden1 = Dense(encoding_dim, activation='sigmoid')(input_img)\n",
    "hidden2 = Dense(encoding_dim, activation='sigmoid')(hidden1)\n",
    "hidden3 = Dense(encoding_dim, activation='sigmoid')(hidden2)\n",
    "decoded = Dense(num_pix, activation='sigmoid')(hidden3)\n",
    "\n",
    "autoencoder = Model(inputs=input_img, outputs=decoded)"
   ]
  },
  {
   "cell_type": "code",
   "execution_count": 11,
   "metadata": {},
   "outputs": [],
   "source": [
    "adam = optimizers.Adam(lr=0.001, beta_1=0.9, beta_2=0.999, epsilon=None, decay=0.0, amsgrad=False)"
   ]
  },
  {
   "cell_type": "code",
   "execution_count": 12,
   "metadata": {},
   "outputs": [],
   "source": [
    "autoencoder.compile(optimizer=adam, loss='mean_squared_error')"
   ]
  },
  {
   "cell_type": "code",
   "execution_count": 13,
   "metadata": {},
   "outputs": [
    {
     "name": "stdout",
     "output_type": "stream",
     "text": [
      "(1708, 2640)\n",
      "(428, 2640)\n",
      "(2427, 2640)\n"
     ]
    }
   ],
   "source": [
    "x_train = x_train.reshape((len(x_train), np.prod(x_train.shape[1:])))\n",
    "x_valid = x_valid.reshape((len(x_valid), np.prod(x_valid.shape[1:])))\n",
    "x_test = x_test.reshape((len(x_test), np.prod(x_test.shape[1:])))\n",
    "print (x_train.shape)\n",
    "print (x_valid.shape)\n",
    "print (x_test.shape)"
   ]
  },
  {
   "cell_type": "code",
   "execution_count": 14,
   "metadata": {},
   "outputs": [],
   "source": [
    "trial = '4'"
   ]
  },
  {
   "cell_type": "code",
   "execution_count": 15,
   "metadata": {},
   "outputs": [],
   "source": [
    "# Keras model save\n",
    "dirName = './models'\n",
    "if not os.path.exists(dirName):\n",
    "    os.mkdir(dirName)"
   ]
  },
  {
   "cell_type": "code",
   "execution_count": 16,
   "metadata": {},
   "outputs": [],
   "source": [
    "# Tensorboard log\n",
    "dirName2 = './tblog%s' % trial\n",
    "if not os.path.exists(dirName2):\n",
    "    os.mkdir(dirName2)\n",
    "tbcallback = TensorBoard(log_dir=dirName2, histogram_freq=0, batch_size=32, write_graph=True, write_grads=False, write_images=False, embeddings_freq=0, embeddings_layer_names=None, embeddings_metadata=None, embeddings_data=None, update_freq='epoch')"
   ]
  },
  {
   "cell_type": "code",
   "execution_count": 17,
   "metadata": {},
   "outputs": [],
   "source": [
    "fpath = './models/60_44_%s.hdf5' % trial\n",
    "checkpointer = ModelCheckpoint(filepath=fpath, verbose=1, save_best_only=True)"
   ]
  },
  {
   "cell_type": "code",
   "execution_count": 18,
   "metadata": {},
   "outputs": [
    {
     "name": "stdout",
     "output_type": "stream",
     "text": [
      "Train on 1708 samples, validate on 428 samples\n",
      "Epoch 1/50\n",
      "1708/1708 [==============================] - 1s 309us/step - loss: 0.0243 - val_loss: 0.0267\n",
      "\n",
      "Epoch 00001: val_loss improved from inf to 0.02673, saving model to ./models/60_44_4.hdf5\n",
      "Epoch 2/50\n",
      "1708/1708 [==============================] - 0s 108us/step - loss: 0.0231 - val_loss: 0.0258\n",
      "\n",
      "Epoch 00002: val_loss improved from 0.02673 to 0.02583, saving model to ./models/60_44_4.hdf5\n",
      "Epoch 3/50\n",
      "1708/1708 [==============================] - 0s 96us/step - loss: 0.0218 - val_loss: 0.0231\n",
      "\n",
      "Epoch 00003: val_loss improved from 0.02583 to 0.02307, saving model to ./models/60_44_4.hdf5\n",
      "Epoch 4/50\n",
      "1708/1708 [==============================] - 0s 85us/step - loss: 0.0190 - val_loss: 0.0190\n",
      "\n",
      "Epoch 00004: val_loss improved from 0.02307 to 0.01902, saving model to ./models/60_44_4.hdf5\n",
      "Epoch 5/50\n",
      "1708/1708 [==============================] - 0s 88us/step - loss: 0.0161 - val_loss: 0.0166\n",
      "\n",
      "Epoch 00005: val_loss improved from 0.01902 to 0.01661, saving model to ./models/60_44_4.hdf5\n",
      "Epoch 6/50\n",
      "1708/1708 [==============================] - 0s 94us/step - loss: 0.0148 - val_loss: 0.0158\n",
      "\n",
      "Epoch 00006: val_loss improved from 0.01661 to 0.01577, saving model to ./models/60_44_4.hdf5\n",
      "Epoch 7/50\n",
      "1708/1708 [==============================] - 0s 88us/step - loss: 0.0145 - val_loss: 0.0152\n",
      "\n",
      "Epoch 00007: val_loss improved from 0.01577 to 0.01516, saving model to ./models/60_44_4.hdf5\n",
      "Epoch 8/50\n",
      "1708/1708 [==============================] - 0s 88us/step - loss: 0.0138 - val_loss: 0.0148\n",
      "\n",
      "Epoch 00008: val_loss improved from 0.01516 to 0.01477, saving model to ./models/60_44_4.hdf5\n",
      "Epoch 9/50\n",
      "1708/1708 [==============================] - 0s 93us/step - loss: 0.0136 - val_loss: 0.0144\n",
      "\n",
      "Epoch 00009: val_loss improved from 0.01477 to 0.01442, saving model to ./models/60_44_4.hdf5\n",
      "Epoch 10/50\n",
      "1708/1708 [==============================] - 0s 89us/step - loss: 0.0133 - val_loss: 0.0142\n",
      "\n",
      "Epoch 00010: val_loss improved from 0.01442 to 0.01419, saving model to ./models/60_44_4.hdf5\n",
      "Epoch 11/50\n",
      "1708/1708 [==============================] - 0s 94us/step - loss: 0.0131 - val_loss: 0.0139\n",
      "\n",
      "Epoch 00011: val_loss improved from 0.01419 to 0.01386, saving model to ./models/60_44_4.hdf5\n",
      "Epoch 12/50\n",
      "1708/1708 [==============================] - 0s 92us/step - loss: 0.0129 - val_loss: 0.0138\n",
      "\n",
      "Epoch 00012: val_loss improved from 0.01386 to 0.01380, saving model to ./models/60_44_4.hdf5\n",
      "Epoch 13/50\n",
      "1708/1708 [==============================] - 0s 93us/step - loss: 0.0128 - val_loss: 0.0138\n",
      "\n",
      "Epoch 00013: val_loss improved from 0.01380 to 0.01375, saving model to ./models/60_44_4.hdf5\n",
      "Epoch 14/50\n",
      "1708/1708 [==============================] - 0s 92us/step - loss: 0.0128 - val_loss: 0.0138\n",
      "\n",
      "Epoch 00014: val_loss did not improve from 0.01375\n",
      "Epoch 15/50\n",
      "1708/1708 [==============================] - 0s 92us/step - loss: 0.0128 - val_loss: 0.0135\n",
      "\n",
      "Epoch 00015: val_loss improved from 0.01375 to 0.01350, saving model to ./models/60_44_4.hdf5\n",
      "Epoch 16/50\n",
      "1708/1708 [==============================] - 0s 98us/step - loss: 0.0128 - val_loss: 0.0136\n",
      "\n",
      "Epoch 00016: val_loss did not improve from 0.01350\n",
      "Epoch 17/50\n",
      "1708/1708 [==============================] - 0s 89us/step - loss: 0.0127 - val_loss: 0.0134\n",
      "\n",
      "Epoch 00017: val_loss improved from 0.01350 to 0.01340, saving model to ./models/60_44_4.hdf5\n",
      "Epoch 18/50\n",
      "1708/1708 [==============================] - 0s 95us/step - loss: 0.0127 - val_loss: 0.0134\n",
      "\n",
      "Epoch 00018: val_loss improved from 0.01340 to 0.01336, saving model to ./models/60_44_4.hdf5\n",
      "Epoch 19/50\n",
      "1708/1708 [==============================] - 0s 97us/step - loss: 0.0126 - val_loss: 0.0133\n",
      "\n",
      "Epoch 00019: val_loss improved from 0.01336 to 0.01333, saving model to ./models/60_44_4.hdf5\n",
      "Epoch 20/50\n",
      "1708/1708 [==============================] - 0s 87us/step - loss: 0.0125 - val_loss: 0.0133\n",
      "\n",
      "Epoch 00020: val_loss did not improve from 0.01333\n",
      "Epoch 21/50\n",
      "1708/1708 [==============================] - 0s 98us/step - loss: 0.0126 - val_loss: 0.0137\n",
      "\n",
      "Epoch 00021: val_loss did not improve from 0.01333\n",
      "Epoch 22/50\n",
      "1708/1708 [==============================] - 0s 89us/step - loss: 0.0126 - val_loss: 0.0133\n",
      "\n",
      "Epoch 00022: val_loss did not improve from 0.01333\n",
      "Epoch 23/50\n",
      "1708/1708 [==============================] - 0s 96us/step - loss: 0.0125 - val_loss: 0.0132\n",
      "\n",
      "Epoch 00023: val_loss improved from 0.01333 to 0.01318, saving model to ./models/60_44_4.hdf5\n",
      "Epoch 24/50\n",
      "1708/1708 [==============================] - 0s 95us/step - loss: 0.0125 - val_loss: 0.0132\n",
      "\n",
      "Epoch 00024: val_loss did not improve from 0.01318\n",
      "Epoch 25/50\n",
      "1708/1708 [==============================] - 0s 101us/step - loss: 0.0125 - val_loss: 0.0135\n",
      "\n",
      "Epoch 00025: val_loss did not improve from 0.01318\n",
      "Epoch 26/50\n",
      "1708/1708 [==============================] - 0s 98us/step - loss: 0.0125 - val_loss: 0.0131\n",
      "\n",
      "Epoch 00026: val_loss improved from 0.01318 to 0.01313, saving model to ./models/60_44_4.hdf5\n",
      "Epoch 27/50\n",
      "1708/1708 [==============================] - 0s 106us/step - loss: 0.0127 - val_loss: 0.0133\n",
      "\n",
      "Epoch 00027: val_loss did not improve from 0.01313\n",
      "Epoch 28/50\n",
      "1708/1708 [==============================] - 0s 97us/step - loss: 0.0125 - val_loss: 0.0132\n",
      "\n",
      "Epoch 00028: val_loss did not improve from 0.01313\n",
      "Epoch 29/50\n",
      "1708/1708 [==============================] - 0s 96us/step - loss: 0.0124 - val_loss: 0.0131\n",
      "\n",
      "Epoch 00029: val_loss improved from 0.01313 to 0.01311, saving model to ./models/60_44_4.hdf5\n",
      "Epoch 30/50\n",
      "1708/1708 [==============================] - 0s 103us/step - loss: 0.0125 - val_loss: 0.0132\n",
      "\n",
      "Epoch 00030: val_loss did not improve from 0.01311\n",
      "Epoch 31/50\n",
      "1708/1708 [==============================] - 0s 88us/step - loss: 0.0125 - val_loss: 0.0132\n",
      "\n",
      "Epoch 00031: val_loss did not improve from 0.01311\n",
      "Epoch 32/50\n",
      "1708/1708 [==============================] - 0s 89us/step - loss: 0.0125 - val_loss: 0.0131\n",
      "\n",
      "Epoch 00032: val_loss did not improve from 0.01311\n",
      "Epoch 33/50\n",
      "1708/1708 [==============================] - 0s 104us/step - loss: 0.0124 - val_loss: 0.0132\n",
      "\n",
      "Epoch 00033: val_loss did not improve from 0.01311\n",
      "Epoch 34/50\n",
      "1708/1708 [==============================] - 0s 95us/step - loss: 0.0124 - val_loss: 0.0130\n",
      "\n",
      "Epoch 00034: val_loss improved from 0.01311 to 0.01304, saving model to ./models/60_44_4.hdf5\n",
      "Epoch 35/50\n",
      "1708/1708 [==============================] - 0s 91us/step - loss: 0.0124 - val_loss: 0.0132\n",
      "\n",
      "Epoch 00035: val_loss did not improve from 0.01304\n",
      "Epoch 36/50\n",
      "1708/1708 [==============================] - 0s 95us/step - loss: 0.0124 - val_loss: 0.0133\n",
      "\n",
      "Epoch 00036: val_loss did not improve from 0.01304\n",
      "Epoch 37/50\n",
      "1708/1708 [==============================] - 0s 85us/step - loss: 0.0125 - val_loss: 0.0136\n",
      "\n",
      "Epoch 00037: val_loss did not improve from 0.01304\n",
      "Epoch 38/50\n",
      "1708/1708 [==============================] - 0s 84us/step - loss: 0.0127 - val_loss: 0.0137\n",
      "\n",
      "Epoch 00038: val_loss did not improve from 0.01304\n",
      "Epoch 39/50\n",
      "1708/1708 [==============================] - 0s 86us/step - loss: 0.0129 - val_loss: 0.0134\n",
      "\n",
      "Epoch 00039: val_loss did not improve from 0.01304\n",
      "Epoch 40/50\n",
      "1708/1708 [==============================] - 0s 88us/step - loss: 0.0126 - val_loss: 0.0131\n",
      "\n",
      "Epoch 00040: val_loss did not improve from 0.01304\n",
      "Epoch 41/50\n",
      "1708/1708 [==============================] - 0s 90us/step - loss: 0.0126 - val_loss: 0.0134\n",
      "\n",
      "Epoch 00041: val_loss did not improve from 0.01304\n",
      "Epoch 42/50\n",
      "1708/1708 [==============================] - 0s 96us/step - loss: 0.0125 - val_loss: 0.0131\n",
      "\n",
      "Epoch 00042: val_loss did not improve from 0.01304\n",
      "Epoch 43/50\n",
      "1708/1708 [==============================] - 0s 88us/step - loss: 0.0125 - val_loss: 0.0130\n",
      "\n",
      "Epoch 00043: val_loss did not improve from 0.01304\n",
      "Epoch 44/50\n",
      "1708/1708 [==============================] - 0s 87us/step - loss: 0.0125 - val_loss: 0.0134\n",
      "\n",
      "Epoch 00044: val_loss did not improve from 0.01304\n",
      "Epoch 45/50\n",
      "1708/1708 [==============================] - 0s 88us/step - loss: 0.0124 - val_loss: 0.0132\n",
      "\n",
      "Epoch 00045: val_loss did not improve from 0.01304\n",
      "Epoch 46/50\n",
      "1708/1708 [==============================] - 0s 86us/step - loss: 0.0124 - val_loss: 0.0130\n",
      "\n",
      "Epoch 00046: val_loss improved from 0.01304 to 0.01303, saving model to ./models/60_44_4.hdf5\n",
      "Epoch 47/50\n",
      "1708/1708 [==============================] - 0s 92us/step - loss: 0.0124 - val_loss: 0.0130\n",
      "\n",
      "Epoch 00047: val_loss improved from 0.01303 to 0.01299, saving model to ./models/60_44_4.hdf5\n",
      "Epoch 48/50\n",
      "1708/1708 [==============================] - 0s 94us/step - loss: 0.0123 - val_loss: 0.0130\n",
      "\n",
      "Epoch 00048: val_loss improved from 0.01299 to 0.01297, saving model to ./models/60_44_4.hdf5\n",
      "Epoch 49/50\n",
      "1708/1708 [==============================] - 0s 88us/step - loss: 0.0123 - val_loss: 0.0130\n",
      "\n",
      "Epoch 00049: val_loss improved from 0.01297 to 0.01295, saving model to ./models/60_44_4.hdf5\n",
      "Epoch 50/50\n",
      "1708/1708 [==============================] - 0s 88us/step - loss: 0.0123 - val_loss: 0.0129\n",
      "\n",
      "Epoch 00050: val_loss improved from 0.01295 to 0.01293, saving model to ./models/60_44_4.hdf5\n"
     ]
    },
    {
     "data": {
      "text/plain": [
       "<keras.callbacks.History at 0x2269b8ffd30>"
      ]
     },
     "execution_count": 18,
     "metadata": {},
     "output_type": "execute_result"
    }
   ],
   "source": [
    "autoencoder.fit(x_train, x_train,\n",
    "                epochs=50,\n",
    "                batch_size=64,\n",
    "                shuffle=False,\n",
    "                validation_data=(x_valid, x_valid),\n",
    "                callbacks=[checkpointer, tbcallback])"
   ]
  },
  {
   "cell_type": "code",
   "execution_count": 19,
   "metadata": {},
   "outputs": [],
   "source": [
    "val_img = autoencoder.predict(x_valid)\n",
    "val_losses = np.zeros(val_img.shape[0])\n",
    "\n",
    "for i in range(val_img.shape[0]):\n",
    "    val_losses[i] = mean_squared_error(x_valid[i], val_img[i])\n",
    "\n",
    "val_st = [np.mean(val_losses), np.std(val_losses)]"
   ]
  },
  {
   "cell_type": "code",
   "execution_count": 20,
   "metadata": {},
   "outputs": [
    {
     "name": "stdout",
     "output_type": "stream",
     "text": [
      "[0.012932527442595387, 0.012874025852540806]\n"
     ]
    }
   ],
   "source": [
    "print(val_st)"
   ]
  },
  {
   "cell_type": "code",
   "execution_count": 21,
   "metadata": {},
   "outputs": [],
   "source": [
    "test_img = autoencoder.predict(x_test)\n",
    "test_losses = np.zeros(test_img.shape[0])\n",
    "\n",
    "for i in range(test_img.shape[0]):\n",
    "    test_losses[i] = mean_squared_error(x_test[i], test_img[i])\n",
    "    \n",
    "test_st = [np.mean(test_losses), np.std(test_losses)]"
   ]
  },
  {
   "cell_type": "code",
   "execution_count": 22,
   "metadata": {},
   "outputs": [
    {
     "name": "stdout",
     "output_type": "stream",
     "text": [
      "[0.022188623634910823, 0.021800944159054175]\n"
     ]
    }
   ],
   "source": [
    "print(test_st)"
   ]
  },
  {
   "cell_type": "code",
   "execution_count": 23,
   "metadata": {},
   "outputs": [
    {
     "name": "stdout",
     "output_type": "stream",
     "text": [
      "Ttest_relResult(statistic=-7.8771296141194345, pvalue=2.8032289702648436e-14)\n"
     ]
    }
   ],
   "source": [
    "from scipy import stats\n",
    "\n",
    "sample_num = len(val_losses)\n",
    "val_sample = np.random.choice(len(val_losses), sample_num)\n",
    "test_sample = np.random.choice(len(test_losses), sample_num)\n",
    "\n",
    "t_results = stats.ttest_rel(val_losses[val_sample], test_losses[test_sample])\n",
    "\n",
    "print(t_results)"
   ]
  },
  {
   "cell_type": "code",
   "execution_count": 24,
   "metadata": {},
   "outputs": [
    {
     "data": {
      "text/plain": [
       "2.8032289702648436e-14"
      ]
     },
     "execution_count": 24,
     "metadata": {},
     "output_type": "execute_result"
    }
   ],
   "source": [
    "t_results[1]"
   ]
  },
  {
   "cell_type": "code",
   "execution_count": 31,
   "metadata": {},
   "outputs": [
    {
     "name": "stdout",
     "output_type": "stream",
     "text": [
      "0.33642213981908353\n"
     ]
    }
   ],
   "source": [
    "from scipy import stats\n",
    "rv = stats.norm(val_st[0], val_st[1])"
   ]
  },
  {
   "cell_type": "code",
   "execution_count": 36,
   "metadata": {},
   "outputs": [
    {
     "name": "stdout",
     "output_type": "stream",
     "text": [
      "0.24161654977385127\n"
     ]
    }
   ],
   "source": [
    "print(rv.cdf(test_losses[1020]))"
   ]
  },
  {
   "cell_type": "code",
   "execution_count": 38,
   "metadata": {},
   "outputs": [
    {
     "name": "stdout",
     "output_type": "stream",
     "text": [
      "0.22414503502266173\n"
     ]
    }
   ],
   "source": [
    "test_detect = np.zeros(len(test_losses))\n",
    "\n",
    "for i in range(len(test_losses)):\n",
    "    cdf_r = rv.cdf(test_losses[i])\n",
    "    \n",
    "    if cdf_r >= 0.99:\n",
    "        test_detect[i] = 1\n",
    "\n",
    "\n",
    "test_acc = np.mean(test_detect)\n",
    "print(test_acc)"
   ]
  },
  {
   "cell_type": "code",
   "execution_count": 46,
   "metadata": {},
   "outputs": [
    {
     "name": "stdout",
     "output_type": "stream",
     "text": [
      "544\n"
     ]
    }
   ],
   "source": [
    "correct_list = np.where(test_detect==1)\n",
    "print(len(correct_list[0]))"
   ]
  },
  {
   "cell_type": "code",
   "execution_count": 51,
   "metadata": {},
   "outputs": [],
   "source": [
    "# For saving results\n",
    "\n",
    "if t_results[1] < 0.05:\n",
    "    save_string = 'Mean Squared Error - Validation [Mean: %.5f, Std: %.5f], Test [Mean: %.5f, Std: %.5f], Statistically Diff \\n' % \\\n",
    "    (val_st[0], val_st[1], test_st[0], test_st[1])\n",
    "else:\n",
    "    save_string = 'Mean Squared Error - Validation [Mean: %.5f, Std: %.5f], Test [Mean: %.5f, Std: %.5f], Statistically Not Diff \\n' % \\\n",
    "    (val_st[0], val_st[1], test_st[0], test_st[1])\n",
    "\n",
    "save_string = save_string + ('Torn net detection accuracy at CFD > .99: %.4f \\n' % test_acc)\n",
    "save_string = save_string + ('Correct List\\n')\n",
    "\n",
    "f = open(\"./models/statistics_trial_%s.txt\" % trial, 'w')\n",
    "f.write(save_string)\n",
    "\n",
    "for i in range(len(correct_list[0])):\n",
    "    temp_string = data_dir['test'][correct_list[0][i]] + '\\n'\n",
    "    f.write(temp_string)\n",
    "f.close()"
   ]
  },
  {
   "cell_type": "code",
   "execution_count": 27,
   "metadata": {},
   "outputs": [
    {
     "data": {
      "image/png": "[encoded data removed]",
      "text/plain": [
       "<Figure size 432x288 with 1 Axes>"
      ]
     },
     "metadata": {},
     "output_type": "display_data"
    },
    {
     "data": {
      "image/png": "[encoded data removed]",
      "text/plain": [
       "<Figure size 432x288 with 1 Axes>"
      ]
     },
     "metadata": {},
     "output_type": "display_data"
    }
   ],
   "source": [
    "idx = 0\n",
    "\n",
    "plt.axis(\"off\")\n",
    "plt.imshow(test_img[idx].reshape([44, 60]), cmap='gray')\n",
    "plt.show()\n",
    "\n",
    "plt.axis(\"off\")\n",
    "plt.imshow(x_test[idx].reshape([44, 60]), cmap='gray')\n",
    "plt.show()"
   ]
  }
 ],
 "metadata": {
  "kernelspec": {
   "display_name": "Python 3",
   "language": "python",
   "name": "python3"
  },
  "language_info": {
   "codemirror_mode": {
    "name": "ipython",
    "version": 3
   },
   "file_extension": ".py",
   "mimetype": "text/x-python",
   "name": "python",
   "nbconvert_exporter": "python",
   "pygments_lexer": "ipython3",
   "version": "3.6.5"
  }
 },
 "nbformat": 4,
 "nbformat_minor": 2
}
