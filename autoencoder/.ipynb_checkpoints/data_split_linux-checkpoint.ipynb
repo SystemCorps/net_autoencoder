{
 "cells": [
  {
   "cell_type": "code",
   "execution_count": 2,
   "metadata": {},
   "outputs": [],
   "source": [
    "import numpy as np\n",
    "from sklearn.model_selection import train_test_split\n",
    "import random\n",
    "import json\n",
    "from glob import glob\n",
    "import os"
   ]
  },
  {
   "cell_type": "code",
   "execution_count": 3,
   "metadata": {},
   "outputs": [],
   "source": [
    "img_dir = [y for x in os.walk('/home/hrsf/dataset/dataset_full/Untorn') for y in glob(os.path.join(x[0], '*.png'))]"
   ]
  },
  {
   "cell_type": "code",
   "execution_count": 4,
   "metadata": {},
   "outputs": [],
   "source": [
    "img_dir2 = [y for x in os.walk('/home/hrsf/dataset/dataset_full/Torn') for y in glob(os.path.join(x[0], '*.png'))]"
   ]
  },
  {
   "cell_type": "code",
   "execution_count": 5,
   "metadata": {},
   "outputs": [
    {
     "name": "stdout",
     "output_type": "stream",
     "text": [
      "/home/hrsf/dataset/dataset_full/Untorn/2082.png 2136\n"
     ]
    }
   ],
   "source": [
    "print(img_dir[0], len(img_dir))"
   ]
  },
  {
   "cell_type": "code",
   "execution_count": 6,
   "metadata": {},
   "outputs": [],
   "source": [
    "train, valid = train_test_split(img_dir, test_size=0.2)\n",
    "test = img_dir2"
   ]
  },
  {
   "cell_type": "code",
   "execution_count": 7,
   "metadata": {},
   "outputs": [
    {
     "name": "stdout",
     "output_type": "stream",
     "text": [
      "/home/hrsf/dataset/dataset_full/Untorn/269.png /home/hrsf/dataset/dataset_full/Untorn/1897.png /home/hrsf/dataset/dataset_full/Torn/2082.png\n"
     ]
    }
   ],
   "source": [
    "print(train[0], valid[0], test[0])"
   ]
  },
  {
   "cell_type": "code",
   "execution_count": 8,
   "metadata": {},
   "outputs": [
    {
     "name": "stdout",
     "output_type": "stream",
     "text": [
      "1708 428 2427\n"
     ]
    }
   ],
   "source": [
    "print(len(train), len(valid), len(test))"
   ]
  },
  {
   "cell_type": "code",
   "execution_count": 9,
   "metadata": {},
   "outputs": [],
   "source": [
    "data_dir = {}\n",
    "data_dir['train'] = train\n",
    "data_dir['valid'] = valid\n",
    "data_dir['test'] = test"
   ]
  },
  {
   "cell_type": "code",
   "execution_count": 10,
   "metadata": {},
   "outputs": [
    {
     "name": "stdout",
     "output_type": "stream",
     "text": [
      "/home/hrsf/dataset/dataset_full/Untorn/269.png\n",
      "/home/hrsf/dataset/dataset_full/Untorn/1897.png\n",
      "/home/hrsf/dataset/dataset_full/Torn/2082.png\n"
     ]
    }
   ],
   "source": [
    "print(data_dir['train'][0])\n",
    "print(data_dir['valid'][0])\n",
    "print(data_dir['test'][0])"
   ]
  },
  {
   "cell_type": "code",
   "execution_count": 11,
   "metadata": {},
   "outputs": [],
   "source": [
    "def default(o):\n",
    "    if isinstance(o, (np.int_, np.intc, np.intp, np.int8,\n",
    "                      np.int16, np.int32, np.int64, np.uint8,\n",
    "                      np.uint16,np.uint32, np.uint64)):\n",
    "        return int(o)\n",
    "\n",
    "    raise TypeError\n",
    "\n",
    "with open('./data_dir_190211_linux.txt', 'w') as file:\n",
    "    file.write(json.dumps(data_dir, default=default))"
   ]
  }
 ],
 "metadata": {
  "kernelspec": {
   "display_name": "Python 3",
   "language": "python",
   "name": "python3"
  },
  "language_info": {
   "codemirror_mode": {
    "name": "ipython",
    "version": 3
   },
   "file_extension": ".py",
   "mimetype": "text/x-python",
   "name": "python",
   "nbconvert_exporter": "python",
   "pygments_lexer": "ipython3",
   "version": "3.5.2"
  }
 },
 "nbformat": 4,
 "nbformat_minor": 2
}
